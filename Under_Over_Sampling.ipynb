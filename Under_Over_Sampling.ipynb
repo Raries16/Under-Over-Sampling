{
  "nbformat": 4,
  "nbformat_minor": 0,
  "metadata": {
    "kernelspec": {
      "display_name": "Python 3",
      "language": "python",
      "name": "python3"
    },
    "language_info": {
      "codemirror_mode": {
        "name": "ipython",
        "version": 3
      },
      "file_extension": ".py",
      "mimetype": "text/x-python",
      "name": "python",
      "nbconvert_exporter": "python",
      "pygments_lexer": "ipython3",
      "version": "3.6.8"
    },
    "colab": {
      "name": "Under/Over Sampling.ipynb",
      "provenance": [],
      "collapsed_sections": [
        "EuLiQKKlzicV"
      ],
      "include_colab_link": true
    }
  },
  "cells": [
    {
      "cell_type": "markdown",
      "metadata": {
        "id": "view-in-github",
        "colab_type": "text"
      },
      "source": [
        "<a href=\"https://colab.research.google.com/github/Raries16/Under-Over-Sampling/blob/main/Under_Over_Sampling.ipynb\" target=\"_parent\"><img src=\"https://colab.research.google.com/assets/colab-badge.svg\" alt=\"Open In Colab\"/></a>"
      ]
    },
    {
      "cell_type": "code",
      "metadata": {
        "colab": {
          "base_uri": "https://localhost:8080/"
        },
        "id": "WfX_Akcqzx-E",
        "outputId": "64f89c3b-a235-4573-ae25-8ec53659924a"
      },
      "source": [
        "from google.colab import drive\n",
        "drive.mount('/content/gdrive')"
      ],
      "execution_count": 70,
      "outputs": [
        {
          "output_type": "stream",
          "text": [
            "Drive already mounted at /content/gdrive; to attempt to forcibly remount, call drive.mount(\"/content/gdrive\", force_remount=True).\n"
          ],
          "name": "stdout"
        }
      ]
    },
    {
      "cell_type": "markdown",
      "metadata": {
        "id": "pAYGhatDBf__"
      },
      "source": [
        "CHeck SMOTE code somewhere else\n",
        "Undersamplg as well \n",
        "Rename the variables according to my need\n",
        "Commenting and Upload on GIT"
      ]
    },
    {
      "cell_type": "code",
      "metadata": {
        "colab": {
          "base_uri": "https://localhost:8080/"
        },
        "id": "6NaB0Xzq0DzL",
        "outputId": "5e26ddb5-42a0-496c-8b0a-67058aaa70ae"
      },
      "source": [
        "%cd /content/gdrive/My Drive/Competition/Cogentix/"
      ],
      "execution_count": 71,
      "outputs": [
        {
          "output_type": "stream",
          "text": [
            "/content/gdrive/My Drive/Competition/Cogentix\n"
          ],
          "name": "stdout"
        }
      ]
    },
    {
      "cell_type": "code",
      "metadata": {
        "colab": {
          "base_uri": "https://localhost:8080/"
        },
        "id": "j3hIFCtu0D2s",
        "outputId": "672bc690-43bb-4f32-be32-d6808d6c1004"
      },
      "source": [
        "%ls"
      ],
      "execution_count": 72,
      "outputs": [
        {
          "output_type": "stream",
          "text": [
            " Log_ROC.png             'Test data.csv'      'Under Over Sampling.ipynb'\n",
            " Problem_Statement.docx  'Training data.csv'\n"
          ],
          "name": "stdout"
        }
      ]
    },
    {
      "cell_type": "code",
      "metadata": {
        "id": "i0q8BEKgzibw",
        "colab": {
          "base_uri": "https://localhost:8080/"
        },
        "outputId": "6e6beb1a-5f62-40d9-e3e2-299536d49115"
      },
      "source": [
        "#importing Necessary libraries\n",
        "import matplotlib.pyplot as plt\n",
        "import numpy as np\n",
        "import pandas as pd\n",
        "import seaborn as sns\n",
        "import warnings\n",
        "from imblearn.over_sampling import SMOTE\n",
        "from imblearn.pipeline import make_pipeline\n",
        "from pylab import rcParams\n",
        "from sklearn.linear_model import LogisticRegression\n",
        "from sklearn.metrics import accuracy_score\n",
        "from sklearn.metrics import precision_score, recall_score, confusion_matrix\n",
        "from sklearn.metrics import f1_score, roc_auc_score, roc_curve\n",
        "from sklearn.model_selection import train_test_split\n",
        "from sklearn.model_selection import GridSearchCV"
      ],
      "execution_count": 4,
      "outputs": [
        {
          "output_type": "stream",
          "text": [
            "/usr/local/lib/python3.7/dist-packages/sklearn/externals/six.py:31: FutureWarning: The module is deprecated in version 0.21 and will be removed in version 0.23 since we've dropped support for Python 2.7. Please rely on the official version of six (https://pypi.org/project/six/).\n",
            "  \"(https://pypi.org/project/six/).\", FutureWarning)\n",
            "/usr/local/lib/python3.7/dist-packages/sklearn/utils/deprecation.py:144: FutureWarning: The sklearn.neighbors.base module is  deprecated in version 0.22 and will be removed in version 0.24. The corresponding classes / functions should instead be imported from sklearn.neighbors. Anything that cannot be imported from sklearn.neighbors is now part of the private API.\n",
            "  warnings.warn(message, FutureWarning)\n"
          ],
          "name": "stderr"
        }
      ]
    },
    {
      "cell_type": "code",
      "metadata": {
        "id": "6C8qqdHgzib9"
      },
      "source": [
        "df = pd.read_csv('Training data.csv')"
      ],
      "execution_count": 5,
      "outputs": []
    },
    {
      "cell_type": "code",
      "metadata": {
        "colab": {
          "base_uri": "https://localhost:8080/",
          "height": 224
        },
        "id": "tZA0qdPczib9",
        "outputId": "1d474410-6487-4147-898c-9be0cd10ae20"
      },
      "source": [
        "df.head()"
      ],
      "execution_count": 6,
      "outputs": [
        {
          "output_type": "execute_result",
          "data": {
            "text/html": [
              "<div>\n",
              "<style scoped>\n",
              "    .dataframe tbody tr th:only-of-type {\n",
              "        vertical-align: middle;\n",
              "    }\n",
              "\n",
              "    .dataframe tbody tr th {\n",
              "        vertical-align: top;\n",
              "    }\n",
              "\n",
              "    .dataframe thead th {\n",
              "        text-align: right;\n",
              "    }\n",
              "</style>\n",
              "<table border=\"1\" class=\"dataframe\">\n",
              "  <thead>\n",
              "    <tr style=\"text-align: right;\">\n",
              "      <th></th>\n",
              "      <th>player_id</th>\n",
              "      <th>sessions</th>\n",
              "      <th>session_time</th>\n",
              "      <th>words</th>\n",
              "      <th>rounds_completed</th>\n",
              "      <th>stars_gained</th>\n",
              "      <th>energy_spent</th>\n",
              "      <th>energy_left</th>\n",
              "      <th>win_ratio</th>\n",
              "      <th>total_games</th>\n",
              "      <th>friends</th>\n",
              "      <th>grind_spent</th>\n",
              "      <th>grind_earned</th>\n",
              "      <th>premium_left</th>\n",
              "      <th>premium_earned</th>\n",
              "      <th>premium_spent</th>\n",
              "      <th>lottery_wins</th>\n",
              "      <th>diffuculty</th>\n",
              "      <th>grind_left</th>\n",
              "      <th>level</th>\n",
              "      <th>dollars</th>\n",
              "      <th>playeractivity</th>\n",
              "    </tr>\n",
              "  </thead>\n",
              "  <tbody>\n",
              "    <tr>\n",
              "      <th>0</th>\n",
              "      <td>8250900</td>\n",
              "      <td>4</td>\n",
              "      <td>3</td>\n",
              "      <td>1</td>\n",
              "      <td>0</td>\n",
              "      <td>115</td>\n",
              "      <td>811</td>\n",
              "      <td>1500</td>\n",
              "      <td>0</td>\n",
              "      <td>0</td>\n",
              "      <td>0</td>\n",
              "      <td>0</td>\n",
              "      <td>0</td>\n",
              "      <td>0</td>\n",
              "      <td>1</td>\n",
              "      <td>1</td>\n",
              "      <td>0</td>\n",
              "      <td>0</td>\n",
              "      <td>0</td>\n",
              "      <td>2</td>\n",
              "      <td>9</td>\n",
              "      <td>Churned</td>\n",
              "    </tr>\n",
              "    <tr>\n",
              "      <th>1</th>\n",
              "      <td>7271390</td>\n",
              "      <td>0</td>\n",
              "      <td>3</td>\n",
              "      <td>1</td>\n",
              "      <td>0</td>\n",
              "      <td>0</td>\n",
              "      <td>1271</td>\n",
              "      <td>400</td>\n",
              "      <td>0</td>\n",
              "      <td>0</td>\n",
              "      <td>0</td>\n",
              "      <td>0</td>\n",
              "      <td>0</td>\n",
              "      <td>0</td>\n",
              "      <td>1</td>\n",
              "      <td>1</td>\n",
              "      <td>1</td>\n",
              "      <td>0</td>\n",
              "      <td>0</td>\n",
              "      <td>1</td>\n",
              "      <td>4</td>\n",
              "      <td>Churned</td>\n",
              "    </tr>\n",
              "    <tr>\n",
              "      <th>2</th>\n",
              "      <td>3271250</td>\n",
              "      <td>3</td>\n",
              "      <td>10</td>\n",
              "      <td>1</td>\n",
              "      <td>0</td>\n",
              "      <td>1500</td>\n",
              "      <td>5027</td>\n",
              "      <td>0</td>\n",
              "      <td>0</td>\n",
              "      <td>0</td>\n",
              "      <td>0</td>\n",
              "      <td>5</td>\n",
              "      <td>0</td>\n",
              "      <td>0</td>\n",
              "      <td>2</td>\n",
              "      <td>1</td>\n",
              "      <td>1</td>\n",
              "      <td>0</td>\n",
              "      <td>0</td>\n",
              "      <td>14</td>\n",
              "      <td>4</td>\n",
              "      <td>Churned</td>\n",
              "    </tr>\n",
              "    <tr>\n",
              "      <th>3</th>\n",
              "      <td>728758</td>\n",
              "      <td>1</td>\n",
              "      <td>11</td>\n",
              "      <td>0</td>\n",
              "      <td>6000</td>\n",
              "      <td>10000</td>\n",
              "      <td>13061</td>\n",
              "      <td>7000</td>\n",
              "      <td>0</td>\n",
              "      <td>0</td>\n",
              "      <td>0</td>\n",
              "      <td>0</td>\n",
              "      <td>0</td>\n",
              "      <td>0</td>\n",
              "      <td>0</td>\n",
              "      <td>0</td>\n",
              "      <td>0</td>\n",
              "      <td>1</td>\n",
              "      <td>0</td>\n",
              "      <td>12</td>\n",
              "      <td>7</td>\n",
              "      <td>Churned</td>\n",
              "    </tr>\n",
              "    <tr>\n",
              "      <th>4</th>\n",
              "      <td>5732530</td>\n",
              "      <td>3</td>\n",
              "      <td>14</td>\n",
              "      <td>1</td>\n",
              "      <td>300</td>\n",
              "      <td>0</td>\n",
              "      <td>201545</td>\n",
              "      <td>400</td>\n",
              "      <td>0</td>\n",
              "      <td>0</td>\n",
              "      <td>0</td>\n",
              "      <td>5</td>\n",
              "      <td>0</td>\n",
              "      <td>0</td>\n",
              "      <td>2</td>\n",
              "      <td>1</td>\n",
              "      <td>0</td>\n",
              "      <td>0</td>\n",
              "      <td>0</td>\n",
              "      <td>23</td>\n",
              "      <td>22</td>\n",
              "      <td>Churned</td>\n",
              "    </tr>\n",
              "  </tbody>\n",
              "</table>\n",
              "</div>"
            ],
            "text/plain": [
              "   player_id   sessions   session_time  ...   level   dollars   playeractivity\n",
              "0    8250900          4              3  ...       2         9          Churned\n",
              "1    7271390          0              3  ...       1         4          Churned\n",
              "2    3271250          3             10  ...      14         4          Churned\n",
              "3     728758          1             11  ...      12         7          Churned\n",
              "4    5732530          3             14  ...      23        22          Churned\n",
              "\n",
              "[5 rows x 22 columns]"
            ]
          },
          "metadata": {
            "tags": []
          },
          "execution_count": 6
        }
      ]
    },
    {
      "cell_type": "code",
      "metadata": {
        "colab": {
          "base_uri": "https://localhost:8080/"
        },
        "id": "0WIrdS-WnkAz",
        "outputId": "69708d92-4b2c-45a2-a418-1a25cfdd403d"
      },
      "source": [
        "df.columns"
      ],
      "execution_count": 7,
      "outputs": [
        {
          "output_type": "execute_result",
          "data": {
            "text/plain": [
              "Index(['player_id', ' sessions', ' session_time', ' words',\n",
              "       ' rounds_completed', ' stars_gained', ' energy_spent', ' energy_left',\n",
              "       ' win_ratio', ' total_games', ' friends', ' grind_spent',\n",
              "       ' grind_earned', ' premium_left', ' premium_earned', ' premium_spent',\n",
              "       ' lottery_wins', ' diffuculty', ' grind_left', ' level', ' dollars',\n",
              "       ' playeractivity'],\n",
              "      dtype='object')"
            ]
          },
          "metadata": {
            "tags": []
          },
          "execution_count": 7
        }
      ]
    },
    {
      "cell_type": "code",
      "metadata": {
        "colab": {
          "base_uri": "https://localhost:8080/"
        },
        "id": "mrdiPBfaxUVu",
        "outputId": "d6c6068a-af49-47ad-ea84-f256bd6c038e"
      },
      "source": [
        "df.dtypes"
      ],
      "execution_count": 8,
      "outputs": [
        {
          "output_type": "execute_result",
          "data": {
            "text/plain": [
              "player_id             int64\n",
              " sessions             int64\n",
              " session_time         int64\n",
              " words                int64\n",
              " rounds_completed     int64\n",
              " stars_gained         int64\n",
              " energy_spent         int64\n",
              " energy_left          int64\n",
              " win_ratio            int64\n",
              " total_games          int64\n",
              " friends              int64\n",
              " grind_spent          int64\n",
              " grind_earned         int64\n",
              " premium_left         int64\n",
              " premium_earned       int64\n",
              " premium_spent        int64\n",
              " lottery_wins         int64\n",
              " diffuculty           int64\n",
              " grind_left           int64\n",
              " level                int64\n",
              " dollars              int64\n",
              " playeractivity      object\n",
              "dtype: object"
            ]
          },
          "metadata": {
            "tags": []
          },
          "execution_count": 8
        }
      ]
    },
    {
      "cell_type": "code",
      "metadata": {
        "colab": {
          "base_uri": "https://localhost:8080/"
        },
        "id": "9x5qJSmPnrZb",
        "outputId": "be900817-38c5-4130-b7d2-71a189685ce3"
      },
      "source": [
        "df.isna().sum()"
      ],
      "execution_count": 9,
      "outputs": [
        {
          "output_type": "execute_result",
          "data": {
            "text/plain": [
              "player_id            0\n",
              " sessions            0\n",
              " session_time        0\n",
              " words               0\n",
              " rounds_completed    0\n",
              " stars_gained        0\n",
              " energy_spent        0\n",
              " energy_left         0\n",
              " win_ratio           0\n",
              " total_games         0\n",
              " friends             0\n",
              " grind_spent         0\n",
              " grind_earned        0\n",
              " premium_left        0\n",
              " premium_earned      0\n",
              " premium_spent       0\n",
              " lottery_wins        0\n",
              " diffuculty          0\n",
              " grind_left          0\n",
              " level               0\n",
              " dollars             0\n",
              " playeractivity      0\n",
              "dtype: int64"
            ]
          },
          "metadata": {
            "tags": []
          },
          "execution_count": 9
        }
      ]
    },
    {
      "cell_type": "code",
      "metadata": {
        "id": "GisyBnkFoDcm"
      },
      "source": [
        "df = df.rename(columns=lambda x: x.strip())"
      ],
      "execution_count": 10,
      "outputs": []
    },
    {
      "cell_type": "code",
      "metadata": {
        "colab": {
          "base_uri": "https://localhost:8080/"
        },
        "id": "Djf1TM-twNgM",
        "outputId": "d9e2e840-1727-4a18-d670-61a043e134e6"
      },
      "source": [
        "df.playeractivity.value_counts()"
      ],
      "execution_count": 11,
      "outputs": [
        {
          "output_type": "execute_result",
          "data": {
            "text/plain": [
              "Active     12079\n",
              "Churned     2919\n",
              "Name: playeractivity, dtype: int64"
            ]
          },
          "metadata": {
            "tags": []
          },
          "execution_count": 11
        }
      ]
    },
    {
      "cell_type": "code",
      "metadata": {
        "colab": {
          "base_uri": "https://localhost:8080/",
          "height": 224
        },
        "id": "tm6QDS3RkE42",
        "outputId": "77aa902a-e18c-4257-d639-4b2c9a1cc936"
      },
      "source": [
        "df['playeractivity'] = df['playeractivity'].replace({'Churned' : 0 , 'Active' : 1})\n",
        "df.head()"
      ],
      "execution_count": 12,
      "outputs": [
        {
          "output_type": "execute_result",
          "data": {
            "text/html": [
              "<div>\n",
              "<style scoped>\n",
              "    .dataframe tbody tr th:only-of-type {\n",
              "        vertical-align: middle;\n",
              "    }\n",
              "\n",
              "    .dataframe tbody tr th {\n",
              "        vertical-align: top;\n",
              "    }\n",
              "\n",
              "    .dataframe thead th {\n",
              "        text-align: right;\n",
              "    }\n",
              "</style>\n",
              "<table border=\"1\" class=\"dataframe\">\n",
              "  <thead>\n",
              "    <tr style=\"text-align: right;\">\n",
              "      <th></th>\n",
              "      <th>player_id</th>\n",
              "      <th>sessions</th>\n",
              "      <th>session_time</th>\n",
              "      <th>words</th>\n",
              "      <th>rounds_completed</th>\n",
              "      <th>stars_gained</th>\n",
              "      <th>energy_spent</th>\n",
              "      <th>energy_left</th>\n",
              "      <th>win_ratio</th>\n",
              "      <th>total_games</th>\n",
              "      <th>friends</th>\n",
              "      <th>grind_spent</th>\n",
              "      <th>grind_earned</th>\n",
              "      <th>premium_left</th>\n",
              "      <th>premium_earned</th>\n",
              "      <th>premium_spent</th>\n",
              "      <th>lottery_wins</th>\n",
              "      <th>diffuculty</th>\n",
              "      <th>grind_left</th>\n",
              "      <th>level</th>\n",
              "      <th>dollars</th>\n",
              "      <th>playeractivity</th>\n",
              "    </tr>\n",
              "  </thead>\n",
              "  <tbody>\n",
              "    <tr>\n",
              "      <th>0</th>\n",
              "      <td>8250900</td>\n",
              "      <td>4</td>\n",
              "      <td>3</td>\n",
              "      <td>1</td>\n",
              "      <td>0</td>\n",
              "      <td>115</td>\n",
              "      <td>811</td>\n",
              "      <td>1500</td>\n",
              "      <td>0</td>\n",
              "      <td>0</td>\n",
              "      <td>0</td>\n",
              "      <td>0</td>\n",
              "      <td>0</td>\n",
              "      <td>0</td>\n",
              "      <td>1</td>\n",
              "      <td>1</td>\n",
              "      <td>0</td>\n",
              "      <td>0</td>\n",
              "      <td>0</td>\n",
              "      <td>2</td>\n",
              "      <td>9</td>\n",
              "      <td>0</td>\n",
              "    </tr>\n",
              "    <tr>\n",
              "      <th>1</th>\n",
              "      <td>7271390</td>\n",
              "      <td>0</td>\n",
              "      <td>3</td>\n",
              "      <td>1</td>\n",
              "      <td>0</td>\n",
              "      <td>0</td>\n",
              "      <td>1271</td>\n",
              "      <td>400</td>\n",
              "      <td>0</td>\n",
              "      <td>0</td>\n",
              "      <td>0</td>\n",
              "      <td>0</td>\n",
              "      <td>0</td>\n",
              "      <td>0</td>\n",
              "      <td>1</td>\n",
              "      <td>1</td>\n",
              "      <td>1</td>\n",
              "      <td>0</td>\n",
              "      <td>0</td>\n",
              "      <td>1</td>\n",
              "      <td>4</td>\n",
              "      <td>0</td>\n",
              "    </tr>\n",
              "    <tr>\n",
              "      <th>2</th>\n",
              "      <td>3271250</td>\n",
              "      <td>3</td>\n",
              "      <td>10</td>\n",
              "      <td>1</td>\n",
              "      <td>0</td>\n",
              "      <td>1500</td>\n",
              "      <td>5027</td>\n",
              "      <td>0</td>\n",
              "      <td>0</td>\n",
              "      <td>0</td>\n",
              "      <td>0</td>\n",
              "      <td>5</td>\n",
              "      <td>0</td>\n",
              "      <td>0</td>\n",
              "      <td>2</td>\n",
              "      <td>1</td>\n",
              "      <td>1</td>\n",
              "      <td>0</td>\n",
              "      <td>0</td>\n",
              "      <td>14</td>\n",
              "      <td>4</td>\n",
              "      <td>0</td>\n",
              "    </tr>\n",
              "    <tr>\n",
              "      <th>3</th>\n",
              "      <td>728758</td>\n",
              "      <td>1</td>\n",
              "      <td>11</td>\n",
              "      <td>0</td>\n",
              "      <td>6000</td>\n",
              "      <td>10000</td>\n",
              "      <td>13061</td>\n",
              "      <td>7000</td>\n",
              "      <td>0</td>\n",
              "      <td>0</td>\n",
              "      <td>0</td>\n",
              "      <td>0</td>\n",
              "      <td>0</td>\n",
              "      <td>0</td>\n",
              "      <td>0</td>\n",
              "      <td>0</td>\n",
              "      <td>0</td>\n",
              "      <td>1</td>\n",
              "      <td>0</td>\n",
              "      <td>12</td>\n",
              "      <td>7</td>\n",
              "      <td>0</td>\n",
              "    </tr>\n",
              "    <tr>\n",
              "      <th>4</th>\n",
              "      <td>5732530</td>\n",
              "      <td>3</td>\n",
              "      <td>14</td>\n",
              "      <td>1</td>\n",
              "      <td>300</td>\n",
              "      <td>0</td>\n",
              "      <td>201545</td>\n",
              "      <td>400</td>\n",
              "      <td>0</td>\n",
              "      <td>0</td>\n",
              "      <td>0</td>\n",
              "      <td>5</td>\n",
              "      <td>0</td>\n",
              "      <td>0</td>\n",
              "      <td>2</td>\n",
              "      <td>1</td>\n",
              "      <td>0</td>\n",
              "      <td>0</td>\n",
              "      <td>0</td>\n",
              "      <td>23</td>\n",
              "      <td>22</td>\n",
              "      <td>0</td>\n",
              "    </tr>\n",
              "  </tbody>\n",
              "</table>\n",
              "</div>"
            ],
            "text/plain": [
              "   player_id  sessions  session_time  ...  level  dollars  playeractivity\n",
              "0    8250900         4             3  ...      2        9               0\n",
              "1    7271390         0             3  ...      1        4               0\n",
              "2    3271250         3            10  ...     14        4               0\n",
              "3     728758         1            11  ...     12        7               0\n",
              "4    5732530         3            14  ...     23       22               0\n",
              "\n",
              "[5 rows x 22 columns]"
            ]
          },
          "metadata": {
            "tags": []
          },
          "execution_count": 12
        }
      ]
    },
    {
      "cell_type": "code",
      "metadata": {
        "id": "r4M5CyHsy1Sj"
      },
      "source": [
        "df['playeractivity'] = df['playeractivity'].astype(int)"
      ],
      "execution_count": 13,
      "outputs": []
    },
    {
      "cell_type": "code",
      "metadata": {
        "colab": {
          "base_uri": "https://localhost:8080/"
        },
        "id": "gKSj8vw_xvlc",
        "outputId": "58de715d-db65-4a65-eb88-cc48122a4aa7"
      },
      "source": [
        "df.dtypes"
      ],
      "execution_count": 14,
      "outputs": [
        {
          "output_type": "execute_result",
          "data": {
            "text/plain": [
              "player_id           int64\n",
              "sessions            int64\n",
              "session_time        int64\n",
              "words               int64\n",
              "rounds_completed    int64\n",
              "stars_gained        int64\n",
              "energy_spent        int64\n",
              "energy_left         int64\n",
              "win_ratio           int64\n",
              "total_games         int64\n",
              "friends             int64\n",
              "grind_spent         int64\n",
              "grind_earned        int64\n",
              "premium_left        int64\n",
              "premium_earned      int64\n",
              "premium_spent       int64\n",
              "lottery_wins        int64\n",
              "diffuculty          int64\n",
              "grind_left          int64\n",
              "level               int64\n",
              "dollars             int64\n",
              "playeractivity      int64\n",
              "dtype: object"
            ]
          },
          "metadata": {
            "tags": []
          },
          "execution_count": 14
        }
      ]
    },
    {
      "cell_type": "code",
      "metadata": {
        "colab": {
          "base_uri": "https://localhost:8080/",
          "height": 224
        },
        "id": "fSPY925zzib_",
        "outputId": "ddfd29d9-155e-467c-a4d1-00b905595d20"
      },
      "source": [
        "X = df.drop(['player_id' , 'playeractivity'], axis = 1)\n",
        "X.head()"
      ],
      "execution_count": 15,
      "outputs": [
        {
          "output_type": "execute_result",
          "data": {
            "text/html": [
              "<div>\n",
              "<style scoped>\n",
              "    .dataframe tbody tr th:only-of-type {\n",
              "        vertical-align: middle;\n",
              "    }\n",
              "\n",
              "    .dataframe tbody tr th {\n",
              "        vertical-align: top;\n",
              "    }\n",
              "\n",
              "    .dataframe thead th {\n",
              "        text-align: right;\n",
              "    }\n",
              "</style>\n",
              "<table border=\"1\" class=\"dataframe\">\n",
              "  <thead>\n",
              "    <tr style=\"text-align: right;\">\n",
              "      <th></th>\n",
              "      <th>sessions</th>\n",
              "      <th>session_time</th>\n",
              "      <th>words</th>\n",
              "      <th>rounds_completed</th>\n",
              "      <th>stars_gained</th>\n",
              "      <th>energy_spent</th>\n",
              "      <th>energy_left</th>\n",
              "      <th>win_ratio</th>\n",
              "      <th>total_games</th>\n",
              "      <th>friends</th>\n",
              "      <th>grind_spent</th>\n",
              "      <th>grind_earned</th>\n",
              "      <th>premium_left</th>\n",
              "      <th>premium_earned</th>\n",
              "      <th>premium_spent</th>\n",
              "      <th>lottery_wins</th>\n",
              "      <th>diffuculty</th>\n",
              "      <th>grind_left</th>\n",
              "      <th>level</th>\n",
              "      <th>dollars</th>\n",
              "    </tr>\n",
              "  </thead>\n",
              "  <tbody>\n",
              "    <tr>\n",
              "      <th>0</th>\n",
              "      <td>4</td>\n",
              "      <td>3</td>\n",
              "      <td>1</td>\n",
              "      <td>0</td>\n",
              "      <td>115</td>\n",
              "      <td>811</td>\n",
              "      <td>1500</td>\n",
              "      <td>0</td>\n",
              "      <td>0</td>\n",
              "      <td>0</td>\n",
              "      <td>0</td>\n",
              "      <td>0</td>\n",
              "      <td>0</td>\n",
              "      <td>1</td>\n",
              "      <td>1</td>\n",
              "      <td>0</td>\n",
              "      <td>0</td>\n",
              "      <td>0</td>\n",
              "      <td>2</td>\n",
              "      <td>9</td>\n",
              "    </tr>\n",
              "    <tr>\n",
              "      <th>1</th>\n",
              "      <td>0</td>\n",
              "      <td>3</td>\n",
              "      <td>1</td>\n",
              "      <td>0</td>\n",
              "      <td>0</td>\n",
              "      <td>1271</td>\n",
              "      <td>400</td>\n",
              "      <td>0</td>\n",
              "      <td>0</td>\n",
              "      <td>0</td>\n",
              "      <td>0</td>\n",
              "      <td>0</td>\n",
              "      <td>0</td>\n",
              "      <td>1</td>\n",
              "      <td>1</td>\n",
              "      <td>1</td>\n",
              "      <td>0</td>\n",
              "      <td>0</td>\n",
              "      <td>1</td>\n",
              "      <td>4</td>\n",
              "    </tr>\n",
              "    <tr>\n",
              "      <th>2</th>\n",
              "      <td>3</td>\n",
              "      <td>10</td>\n",
              "      <td>1</td>\n",
              "      <td>0</td>\n",
              "      <td>1500</td>\n",
              "      <td>5027</td>\n",
              "      <td>0</td>\n",
              "      <td>0</td>\n",
              "      <td>0</td>\n",
              "      <td>0</td>\n",
              "      <td>5</td>\n",
              "      <td>0</td>\n",
              "      <td>0</td>\n",
              "      <td>2</td>\n",
              "      <td>1</td>\n",
              "      <td>1</td>\n",
              "      <td>0</td>\n",
              "      <td>0</td>\n",
              "      <td>14</td>\n",
              "      <td>4</td>\n",
              "    </tr>\n",
              "    <tr>\n",
              "      <th>3</th>\n",
              "      <td>1</td>\n",
              "      <td>11</td>\n",
              "      <td>0</td>\n",
              "      <td>6000</td>\n",
              "      <td>10000</td>\n",
              "      <td>13061</td>\n",
              "      <td>7000</td>\n",
              "      <td>0</td>\n",
              "      <td>0</td>\n",
              "      <td>0</td>\n",
              "      <td>0</td>\n",
              "      <td>0</td>\n",
              "      <td>0</td>\n",
              "      <td>0</td>\n",
              "      <td>0</td>\n",
              "      <td>0</td>\n",
              "      <td>1</td>\n",
              "      <td>0</td>\n",
              "      <td>12</td>\n",
              "      <td>7</td>\n",
              "    </tr>\n",
              "    <tr>\n",
              "      <th>4</th>\n",
              "      <td>3</td>\n",
              "      <td>14</td>\n",
              "      <td>1</td>\n",
              "      <td>300</td>\n",
              "      <td>0</td>\n",
              "      <td>201545</td>\n",
              "      <td>400</td>\n",
              "      <td>0</td>\n",
              "      <td>0</td>\n",
              "      <td>0</td>\n",
              "      <td>5</td>\n",
              "      <td>0</td>\n",
              "      <td>0</td>\n",
              "      <td>2</td>\n",
              "      <td>1</td>\n",
              "      <td>0</td>\n",
              "      <td>0</td>\n",
              "      <td>0</td>\n",
              "      <td>23</td>\n",
              "      <td>22</td>\n",
              "    </tr>\n",
              "  </tbody>\n",
              "</table>\n",
              "</div>"
            ],
            "text/plain": [
              "   sessions  session_time  words  ...  grind_left  level  dollars\n",
              "0         4             3      1  ...           0      2        9\n",
              "1         0             3      1  ...           0      1        4\n",
              "2         3            10      1  ...           0     14        4\n",
              "3         1            11      0  ...           0     12        7\n",
              "4         3            14      1  ...           0     23       22\n",
              "\n",
              "[5 rows x 20 columns]"
            ]
          },
          "metadata": {
            "tags": []
          },
          "execution_count": 15
        }
      ]
    },
    {
      "cell_type": "code",
      "metadata": {
        "id": "QgyHoMsJ5epP"
      },
      "source": [
        "from sklearn.preprocessing import MinMaxScaler"
      ],
      "execution_count": 16,
      "outputs": []
    },
    {
      "cell_type": "code",
      "metadata": {
        "id": "jb5vd0mW5eyC"
      },
      "source": [
        "scaler = MinMaxScaler()"
      ],
      "execution_count": 17,
      "outputs": []
    },
    {
      "cell_type": "code",
      "metadata": {
        "id": "AYAd-xzH5frT"
      },
      "source": [
        "X[X.columns] = scaler.fit_transform(X)"
      ],
      "execution_count": 18,
      "outputs": []
    },
    {
      "cell_type": "code",
      "metadata": {
        "id": "ol5g3VpTzib_",
        "colab": {
          "base_uri": "https://localhost:8080/"
        },
        "outputId": "f754d2ec-bc8b-48d1-b746-01ebfad23800"
      },
      "source": [
        "Y = df['playeractivity']\n",
        "Y.head()"
      ],
      "execution_count": 19,
      "outputs": [
        {
          "output_type": "execute_result",
          "data": {
            "text/plain": [
              "0    0\n",
              "1    0\n",
              "2    0\n",
              "3    0\n",
              "4    0\n",
              "Name: playeractivity, dtype: int64"
            ]
          },
          "metadata": {
            "tags": []
          },
          "execution_count": 19
        }
      ]
    },
    {
      "cell_type": "code",
      "metadata": {
        "id": "H3f_4dDEzib_"
      },
      "source": [
        "X_train, X_test, Y_train, Y_test = train_test_split(X, Y, \n",
        "                                                    test_size=0.30, \n",
        "                                                    random_state=42)"
      ],
      "execution_count": 20,
      "outputs": []
    },
    {
      "cell_type": "code",
      "metadata": {
        "colab": {
          "base_uri": "https://localhost:8080/",
          "height": 330
        },
        "id": "RoNviUyezicA",
        "outputId": "5253328a-6d2a-4b2d-8ddd-d3900303c567"
      },
      "source": [
        "ax = sns.countplot(x=Y, data=df)\n",
        "print(Y.value_counts())"
      ],
      "execution_count": 21,
      "outputs": [
        {
          "output_type": "stream",
          "text": [
            "1    12079\n",
            "0     2919\n",
            "Name: playeractivity, dtype: int64\n"
          ],
          "name": "stdout"
        },
        {
          "output_type": "display_data",
          "data": {
            "image/png": "[encoded data removed]",
            "text/plain": [
              "<Figure size 432x288 with 1 Axes>"
            ]
          },
          "metadata": {
            "tags": [],
            "needs_background": "light"
          }
        }
      ]
    },
    {
      "cell_type": "code",
      "metadata": {
        "colab": {
          "base_uri": "https://localhost:8080/"
        },
        "id": "UPWnnJDuzicA",
        "outputId": "26e6884b-7dc0-4006-bf7b-1dbf7fa47d8b"
      },
      "source": [
        "100* (2919/float(df.shape[0]))"
      ],
      "execution_count": 22,
      "outputs": [
        {
          "output_type": "execute_result",
          "data": {
            "text/plain": [
              "19.462595012668356"
            ]
          },
          "metadata": {
            "tags": []
          },
          "execution_count": 22
        }
      ]
    },
    {
      "cell_type": "code",
      "metadata": {
        "colab": {
          "base_uri": "https://localhost:8080/"
        },
        "id": "oI0sE5hLzicB",
        "outputId": "00dcdfac-b2d6-46a1-ca53-92aa0629d76e"
      },
      "source": [
        "100* (12079/float(df.shape[0]))"
      ],
      "execution_count": 23,
      "outputs": [
        {
          "output_type": "execute_result",
          "data": {
            "text/plain": [
              "80.53740498733164"
            ]
          },
          "metadata": {
            "tags": []
          },
          "execution_count": 23
        }
      ]
    },
    {
      "cell_type": "code",
      "metadata": {
        "colab": {
          "base_uri": "https://localhost:8080/"
        },
        "id": "nH6Pntw0zicB",
        "outputId": "2644f99f-66e1-4004-d6dd-739e89f664a2"
      },
      "source": [
        "Y_train.value_counts()"
      ],
      "execution_count": 24,
      "outputs": [
        {
          "output_type": "execute_result",
          "data": {
            "text/plain": [
              "1    8500\n",
              "0    1998\n",
              "Name: playeractivity, dtype: int64"
            ]
          },
          "metadata": {
            "tags": []
          },
          "execution_count": 24
        }
      ]
    },
    {
      "cell_type": "code",
      "metadata": {
        "colab": {
          "base_uri": "https://localhost:8080/"
        },
        "id": "69fXahVEsB7P",
        "outputId": "d1ae1143-2cf1-427b-e57d-adaa7fe22baf"
      },
      "source": [
        "Y_train.head()"
      ],
      "execution_count": 25,
      "outputs": [
        {
          "output_type": "execute_result",
          "data": {
            "text/plain": [
              "5896     1\n",
              "13109    1\n",
              "1572     1\n",
              "12993    1\n",
              "879      1\n",
              "Name: playeractivity, dtype: int64"
            ]
          },
          "metadata": {
            "tags": []
          },
          "execution_count": 25
        }
      ]
    },
    {
      "cell_type": "code",
      "metadata": {
        "id": "q_WWKPvhzicC",
        "colab": {
          "base_uri": "https://localhost:8080/"
        },
        "outputId": "96fd9e18-9c6d-4aa7-a89b-09765065853c"
      },
      "source": [
        "model_lr = LogisticRegression(solver = 'liblinear')\n",
        "model_lr.fit(X_train, Y_train)"
      ],
      "execution_count": 26,
      "outputs": [
        {
          "output_type": "execute_result",
          "data": {
            "text/plain": [
              "LogisticRegression(C=1.0, class_weight=None, dual=False, fit_intercept=True,\n",
              "                   intercept_scaling=1, l1_ratio=None, max_iter=100,\n",
              "                   multi_class='auto', n_jobs=None, penalty='l2',\n",
              "                   random_state=None, solver='liblinear', tol=0.0001, verbose=0,\n",
              "                   warm_start=False)"
            ]
          },
          "metadata": {
            "tags": []
          },
          "execution_count": 26
        }
      ]
    },
    {
      "cell_type": "code",
      "metadata": {
        "id": "dQxVwN9yzicC",
        "colab": {
          "base_uri": "https://localhost:8080/"
        },
        "outputId": "dbca56d0-44cc-4791-9c27-ea069fec168b"
      },
      "source": [
        "predicted_classes_lr = model_lr.predict(X_test)\n",
        "predicted_classes_lr"
      ],
      "execution_count": 27,
      "outputs": [
        {
          "output_type": "execute_result",
          "data": {
            "text/plain": [
              "array([1, 1, 1, ..., 1, 1, 1])"
            ]
          },
          "metadata": {
            "tags": []
          },
          "execution_count": 27
        }
      ]
    },
    {
      "cell_type": "code",
      "metadata": {
        "id": "WUPt6MYuzicC",
        "colab": {
          "base_uri": "https://localhost:8080/"
        },
        "outputId": "4fa43dc4-58d8-41b9-993b-5645168b69fd"
      },
      "source": [
        "print(\"Confusion matrix for Logistic Regression model:\")\n",
        "conf_mat_lr = confusion_matrix(Y_test.tolist(), predicted_classes_lr)\n",
        "print(conf_mat_lr)"
      ],
      "execution_count": 28,
      "outputs": [
        {
          "output_type": "stream",
          "text": [
            "Confusion matrix for Logistic Regression model:\n",
            "[[   0  921]\n",
            " [   0 3579]]\n"
          ],
          "name": "stdout"
        }
      ]
    },
    {
      "cell_type": "code",
      "metadata": {
        "colab": {
          "base_uri": "https://localhost:8080/",
          "height": 279
        },
        "id": "4Y9XLuQsjo_h",
        "outputId": "11748ec3-0eb7-4a63-917e-d5463b9bbe0e"
      },
      "source": [
        "sns.heatmap(conf_mat_lr, annot = True , fmt = 'g')\n",
        "plt.xlabel(\"Predicted classes\")\n",
        "plt.ylabel(\"Actual classes\")\n",
        "plt.show()"
      ],
      "execution_count": 29,
      "outputs": [
        {
          "output_type": "display_data",
          "data": {
            "image/png": "[encoded data removed]",
            "text/plain": [
              "<Figure size 432x288 with 2 Axes>"
            ]
          },
          "metadata": {
            "tags": [],
            "needs_background": "light"
          }
        }
      ]
    },
    {
      "cell_type": "code",
      "metadata": {
        "id": "-0JlJl5wzicE",
        "colab": {
          "base_uri": "https://localhost:8080/",
          "height": 295
        },
        "outputId": "5d6df10b-a816-43c9-9e24-478c28c99834"
      },
      "source": [
        "logit_roc_auc = roc_auc_score(Y_test, model_lr.predict(X_test))\n",
        "fpr, tpr, thresholds = roc_curve(Y_test, model_lr.predict_proba(X_test)[:,1])\n",
        "plt.figure()\n",
        "plt.plot(fpr, tpr, label='Logistic Regression (area = %0.2f)' % logit_roc_auc)\n",
        "plt.plot([0, 1], [0, 1],'r--')\n",
        "plt.xlim([0.0, 1.0])\n",
        "plt.ylim([0.0, 1.05])\n",
        "plt.xlabel('False Positive Rate')\n",
        "plt.ylabel('True Positive Rate')\n",
        "plt.title('Receiver operating characteristic')\n",
        "plt.legend(loc=\"lower right\")\n",
        "plt.savefig('Log_ROC')\n",
        "plt.show()"
      ],
      "execution_count": 30,
      "outputs": [
        {
          "output_type": "display_data",
          "data": {
            "image/png": "[encoded data removed]",
            "text/plain": [
              "<Figure size 432x288 with 1 Axes>"
            ]
          },
          "metadata": {
            "tags": [],
            "needs_background": "light"
          }
        }
      ]
    },
    {
      "cell_type": "markdown",
      "metadata": {
        "id": "sK_QYvnJzicE"
      },
      "source": [
        "# class_weight='balanced'"
      ]
    },
    {
      "cell_type": "code",
      "metadata": {
        "id": "fZO4SB8uzicF"
      },
      "source": [
        "# https://scikit-learn.org/stable/modules/generated/sklearn.utils.class_weight.compute_class_weight.html"
      ],
      "execution_count": 31,
      "outputs": []
    },
    {
      "cell_type": "code",
      "metadata": {
        "id": "HF0LCkO5zicF",
        "colab": {
          "base_uri": "https://localhost:8080/"
        },
        "outputId": "ba9cc184-d603-4e1b-a6c5-748a82aab17b"
      },
      "source": [
        "unique_classes = list(Y.unique())\n",
        "unique_classes"
      ],
      "execution_count": 32,
      "outputs": [
        {
          "output_type": "execute_result",
          "data": {
            "text/plain": [
              "[0, 1]"
            ]
          },
          "metadata": {
            "tags": []
          },
          "execution_count": 32
        }
      ]
    },
    {
      "cell_type": "code",
      "metadata": {
        "id": "TFKN1cG6zicF"
      },
      "source": [
        "out_dict = {}\n",
        "for classes in unique_classes:\n",
        "    out_dict[classes] = df.shape[0]/((df.loc[Y == classes].shape[0])\n",
        "                                     *len(unique_classes))"
      ],
      "execution_count": 33,
      "outputs": []
    },
    {
      "cell_type": "code",
      "metadata": {
        "id": "1bmV0fdfzicG",
        "colab": {
          "base_uri": "https://localhost:8080/"
        },
        "outputId": "61deeb8c-7b57-4284-e288-c2d044b4f625"
      },
      "source": [
        "out_dict"
      ],
      "execution_count": 34,
      "outputs": [
        {
          "output_type": "execute_result",
          "data": {
            "text/plain": [
              "{0: 2.5690304898937995, 1: 0.6208295388691116}"
            ]
          },
          "metadata": {
            "tags": []
          },
          "execution_count": 34
        }
      ]
    },
    {
      "cell_type": "code",
      "metadata": {
        "id": "5ydl_-lXzicG",
        "colab": {
          "base_uri": "https://localhost:8080/"
        },
        "outputId": "85e3b8f4-879f-4e20-a9bd-c131defd0b82"
      },
      "source": [
        "print (X_train.shape, Y_train.shape)"
      ],
      "execution_count": 35,
      "outputs": [
        {
          "output_type": "stream",
          "text": [
            "(10498, 20) (10498,)\n"
          ],
          "name": "stdout"
        }
      ]
    },
    {
      "cell_type": "code",
      "metadata": {
        "id": "2l31CGRqzicG"
      },
      "source": [
        "model_lr = LogisticRegression(class_weight='balanced' , solver = 'liblinear').fit(X_train, Y_train)"
      ],
      "execution_count": 36,
      "outputs": []
    },
    {
      "cell_type": "code",
      "metadata": {
        "id": "vfjA81kEzicH"
      },
      "source": [
        "from sklearn.utils import class_weight"
      ],
      "execution_count": 37,
      "outputs": []
    },
    {
      "cell_type": "code",
      "metadata": {
        "id": "8POILtF7zicH",
        "colab": {
          "base_uri": "https://localhost:8080/"
        },
        "outputId": "ab713992-e1a1-4813-8eac-8a855b7c3ccf"
      },
      "source": [
        "class_weight.compute_class_weight('balanced', np.unique(Y_train), Y_train)"
      ],
      "execution_count": 38,
      "outputs": [
        {
          "output_type": "execute_result",
          "data": {
            "text/plain": [
              "array([2.62712713, 0.61752941])"
            ]
          },
          "metadata": {
            "tags": []
          },
          "execution_count": 38
        }
      ]
    },
    {
      "cell_type": "code",
      "metadata": {
        "id": "Jm050YgVzicI"
      },
      "source": [
        "predicted_classes_lr = model_lr.predict(X_test)"
      ],
      "execution_count": 39,
      "outputs": []
    },
    {
      "cell_type": "code",
      "metadata": {
        "id": "ko_4fx70zicI",
        "colab": {
          "base_uri": "https://localhost:8080/",
          "height": 279
        },
        "outputId": "95512bd7-df54-4928-f044-56284e65f6ba"
      },
      "source": [
        "sns.heatmap(conf_mat_lr, annot = True , fmt = 'g')\n",
        "plt.xlabel(\"Predicted classes\")\n",
        "plt.ylabel(\"Actual classes\")\n",
        "plt.show()"
      ],
      "execution_count": 40,
      "outputs": [
        {
          "output_type": "display_data",
          "data": {
            "image/png": "[encoded data removed]",
            "text/plain": [
              "<Figure size 432x288 with 2 Axes>"
            ]
          },
          "metadata": {
            "tags": [],
            "needs_background": "light"
          }
        }
      ]
    },
    {
      "cell_type": "code",
      "metadata": {
        "id": "ONlW2x1O_McR"
      },
      "source": [
        "from sklearn.model_selection import GridSearchCV"
      ],
      "execution_count": 41,
      "outputs": []
    },
    {
      "cell_type": "code",
      "metadata": {
        "id": "GGtjaPND_ZMM"
      },
      "source": [
        "model_lr = LogisticRegression(max_iter= 400)"
      ],
      "execution_count": 42,
      "outputs": []
    },
    {
      "cell_type": "code",
      "metadata": {
        "colab": {
          "base_uri": "https://localhost:8080/"
        },
        "id": "Otlv9oji_Mp_",
        "outputId": "815f5848-e027-4628-a2fe-47987fd6d59c"
      },
      "source": [
        "weights = np.linspace(0.05, 0.95, 20)\n",
        "grid_values = {'class_weight': [{0: x, 1: 1.0-x} for x in weights] , 'C':[0.001,.009,0.01,.09,1,5,10,25]}\n",
        "grid_clf = GridSearchCV(model_lr, param_grid = grid_values,scoring = 'f1')\n",
        "grid_clf.fit(X_train, Y_train)\n",
        "print(\"Best parameters : %s\" % grid_clf.best_params_)"
      ],
      "execution_count": 43,
      "outputs": [
        {
          "output_type": "stream",
          "text": [
            "Best parameters : {'C': 25, 'class_weight': {0: 0.5710526315789474, 1: 0.42894736842105263}}\n"
          ],
          "name": "stdout"
        }
      ]
    },
    {
      "cell_type": "code",
      "metadata": {
        "id": "qXuj-EXRCGT5"
      },
      "source": [
        "best_grid=grid_clf.best_estimator_"
      ],
      "execution_count": 44,
      "outputs": []
    },
    {
      "cell_type": "code",
      "metadata": {
        "colab": {
          "base_uri": "https://localhost:8080/"
        },
        "id": "10YZRUgFCcdh",
        "outputId": "628eef57-21e1-45a9-92fc-cb8318851306"
      },
      "source": [
        "predicted_classes_best_grid = best_grid.predict(X_test)\n",
        "predicted_classes_best_grid"
      ],
      "execution_count": 45,
      "outputs": [
        {
          "output_type": "execute_result",
          "data": {
            "text/plain": [
              "array([1, 1, 1, ..., 1, 1, 1])"
            ]
          },
          "metadata": {
            "tags": []
          },
          "execution_count": 45
        }
      ]
    },
    {
      "cell_type": "code",
      "metadata": {
        "colab": {
          "base_uri": "https://localhost:8080/"
        },
        "id": "WVPVUWYzCc7Q",
        "outputId": "4851cf08-66ea-4cf4-d19d-442d90f61b53"
      },
      "source": [
        "print(\"Confusion matrix for Logistic Regression model:\")\n",
        "conf_mat_best_grid = confusion_matrix(Y_test.tolist(), predicted_classes_best_grid)\n",
        "print(conf_mat_best_grid)"
      ],
      "execution_count": 46,
      "outputs": [
        {
          "output_type": "stream",
          "text": [
            "Confusion matrix for Logistic Regression model:\n",
            "[[   8  913]\n",
            " [   6 3573]]\n"
          ],
          "name": "stdout"
        }
      ]
    },
    {
      "cell_type": "code",
      "metadata": {
        "colab": {
          "base_uri": "https://localhost:8080/",
          "height": 279
        },
        "id": "NiU7LcfbCyXv",
        "outputId": "e811fd22-e178-4455-d0d5-7dd4a1d1c17b"
      },
      "source": [
        "sns.heatmap(conf_mat_best_grid, annot = True , fmt = 'g')\n",
        "plt.xlabel(\"Predicted classes\")\n",
        "plt.ylabel(\"Actual classes\")\n",
        "plt.show()"
      ],
      "execution_count": 47,
      "outputs": [
        {
          "output_type": "display_data",
          "data": {
            "image/png": "[encoded data removed]",
            "text/plain": [
              "<Figure size 432x288 with 2 Axes>"
            ]
          },
          "metadata": {
            "tags": [],
            "needs_background": "light"
          }
        }
      ]
    },
    {
      "cell_type": "markdown",
      "metadata": {
        "id": "GHQZ50_VzicP"
      },
      "source": [
        "# SMOTE"
      ]
    },
    {
      "cell_type": "code",
      "metadata": {
        "id": "oU5XbA-1zicQ",
        "colab": {
          "base_uri": "https://localhost:8080/"
        },
        "outputId": "353efd63-b073-43d7-9da6-14e4d876a89e"
      },
      "source": [
        "unique, count = np.unique(Y_train, return_counts=True)\n",
        "Y_train_dict_value_count = { k:v for (k,v) in zip(unique, count)}\n",
        "Y_train_dict_value_count"
      ],
      "execution_count": 48,
      "outputs": [
        {
          "output_type": "execute_result",
          "data": {
            "text/plain": [
              "{0: 1998, 1: 8500}"
            ]
          },
          "metadata": {
            "tags": []
          },
          "execution_count": 48
        }
      ]
    },
    {
      "cell_type": "code",
      "metadata": {
        "id": "lfr7QAUFzicQ",
        "colab": {
          "base_uri": "https://localhost:8080/"
        },
        "outputId": "7279963d-ceb5-4c25-ad2b-8f9e2e8fe225"
      },
      "source": [
        "sm = SMOTE(random_state=12, ratio = 1.0)\n",
        "x_train_res, y_train_res = sm.fit_sample(X_train, Y_train)"
      ],
      "execution_count": 49,
      "outputs": [
        {
          "output_type": "stream",
          "text": [
            "/usr/local/lib/python3.7/dist-packages/sklearn/utils/deprecation.py:87: FutureWarning: Function safe_indexing is deprecated; safe_indexing is deprecated in version 0.22 and will be removed in version 0.24.\n",
            "  warnings.warn(msg, category=FutureWarning)\n"
          ],
          "name": "stderr"
        }
      ]
    },
    {
      "cell_type": "code",
      "metadata": {
        "id": "v9NAhR-lzicR",
        "colab": {
          "base_uri": "https://localhost:8080/"
        },
        "outputId": "2aa07e62-4379-45b2-c92f-02ab36c5ea1f"
      },
      "source": [
        "unique, count = np.unique(y_train_res, return_counts=True)\n",
        "y_train_smote_value_count = { k:v for (k,v) in zip(unique, count)}\n",
        "y_train_smote_value_count"
      ],
      "execution_count": 50,
      "outputs": [
        {
          "output_type": "execute_result",
          "data": {
            "text/plain": [
              "{0: 8500, 1: 8500}"
            ]
          },
          "metadata": {
            "tags": []
          },
          "execution_count": 50
        }
      ]
    },
    {
      "cell_type": "code",
      "metadata": {
        "id": "msYP5bzpzicS"
      },
      "source": [
        "model_lr = LogisticRegression(solver = 'liblinear' , max_iter = 1000).fit(x_train_res, y_train_res)"
      ],
      "execution_count": 51,
      "outputs": []
    },
    {
      "cell_type": "code",
      "metadata": {
        "id": "CaSSIITBzicS"
      },
      "source": [
        "predicted_classes_lr = model_lr.predict(X_test)"
      ],
      "execution_count": 52,
      "outputs": []
    },
    {
      "cell_type": "code",
      "metadata": {
        "id": "vvkKX646zicS",
        "colab": {
          "base_uri": "https://localhost:8080/",
          "height": 330
        },
        "outputId": "c9f4a148-7c94-488e-bbf3-21ea3056a7bf"
      },
      "source": [
        "print(\"Confusion matrix for Logistic Regression model:\")\n",
        "conf_mat_lr = confusion_matrix(Y_test.tolist(), predicted_classes_lr)\n",
        "print(conf_mat_lr)\n",
        "\n",
        "\n",
        "sns.heatmap(conf_mat_lr, annot = True , fmt = 'g')\n",
        "plt.xlabel(\"Predicted classes\")\n",
        "plt.ylabel(\"Actual classes\")\n",
        "plt.show()"
      ],
      "execution_count": 53,
      "outputs": [
        {
          "output_type": "stream",
          "text": [
            "Confusion matrix for Logistic Regression model:\n",
            "[[ 779  142]\n",
            " [1538 2041]]\n"
          ],
          "name": "stdout"
        },
        {
          "output_type": "display_data",
          "data": {
            "image/png": "[encoded data removed]",
            "text/plain": [
              "<Figure size 432x288 with 2 Axes>"
            ]
          },
          "metadata": {
            "tags": [],
            "needs_background": "light"
          }
        }
      ]
    },
    {
      "cell_type": "code",
      "metadata": {
        "id": "iKnKJwBLzicT",
        "colab": {
          "base_uri": "https://localhost:8080/"
        },
        "outputId": "9e8fa874-83e9-49c4-9e26-4f7e1d97f66a"
      },
      "source": [
        "weights = np.linspace(0.005, 0.25, 10)\n",
        "weights"
      ],
      "execution_count": 54,
      "outputs": [
        {
          "output_type": "execute_result",
          "data": {
            "text/plain": [
              "array([0.005     , 0.03222222, 0.05944444, 0.08666667, 0.11388889,\n",
              "       0.14111111, 0.16833333, 0.19555556, 0.22277778, 0.25      ])"
            ]
          },
          "metadata": {
            "tags": []
          },
          "execution_count": 54
        }
      ]
    },
    {
      "cell_type": "code",
      "metadata": {
        "id": "J12SbZkfFioT"
      },
      "source": [
        "model_lr = LogisticRegression(max_iter = 400)"
      ],
      "execution_count": 55,
      "outputs": []
    },
    {
      "cell_type": "code",
      "metadata": {
        "colab": {
          "base_uri": "https://localhost:8080/"
        },
        "id": "wsW4hxnCFa6C",
        "outputId": "e2d9e695-f9c8-4b64-c276-d6cc5f87eea5"
      },
      "source": [
        "grid_values = {'class_weight': [{0: x, 1: 1.0-x} for x in weights] , 'C':[0.001,.009,0.01,.09,1,5,10,25]}\n",
        "grid_clf = GridSearchCV(model_lr, param_grid = grid_values,scoring = 'f1')\n",
        "grid_clf.fit(x_train_res, y_train_res)\n",
        "print(\"Best parameters : %s\" % grid_clf.best_params_)"
      ],
      "execution_count": 56,
      "outputs": [
        {
          "output_type": "stream",
          "text": [
            "Best parameters : {'C': 25, 'class_weight': {0: 0.25, 1: 0.75}}\n"
          ],
          "name": "stdout"
        }
      ]
    },
    {
      "cell_type": "code",
      "metadata": {
        "id": "alc_1UHRGJ63"
      },
      "source": [
        "best_grid=grid_clf.best_estimator_"
      ],
      "execution_count": 57,
      "outputs": []
    },
    {
      "cell_type": "code",
      "metadata": {
        "colab": {
          "base_uri": "https://localhost:8080/"
        },
        "id": "sbUqVgbwGKCV",
        "outputId": "76a204ed-39c7-49ce-8201-f0752f6e19b2"
      },
      "source": [
        "predicted_classes_best_grid = best_grid.predict(X_test)\n",
        "predicted_classes_best_grid"
      ],
      "execution_count": 58,
      "outputs": [
        {
          "output_type": "execute_result",
          "data": {
            "text/plain": [
              "array([1, 1, 1, ..., 1, 1, 1])"
            ]
          },
          "metadata": {
            "tags": []
          },
          "execution_count": 58
        }
      ]
    },
    {
      "cell_type": "code",
      "metadata": {
        "colab": {
          "base_uri": "https://localhost:8080/",
          "height": 330
        },
        "id": "Zw3vyO4cGaCQ",
        "outputId": "466cdef2-6402-457d-f31e-b054e3d4a22b"
      },
      "source": [
        "print(\"Confusion matrix for Logistic Regression model:\")\n",
        "conf_mat_best_grid = confusion_matrix(Y_test.tolist(), predicted_classes_best_grid)\n",
        "print(conf_mat_best_grid)\n",
        "\n",
        "\n",
        "sns.heatmap(conf_mat_best_grid, annot = True , fmt = 'g')\n",
        "plt.xlabel(\"Predicted classes\")\n",
        "plt.ylabel(\"Actual classes\")\n",
        "plt.show()"
      ],
      "execution_count": 59,
      "outputs": [
        {
          "output_type": "stream",
          "text": [
            "Confusion matrix for Logistic Regression model:\n",
            "[[  23  898]\n",
            " [  16 3563]]\n"
          ],
          "name": "stdout"
        },
        {
          "output_type": "display_data",
          "data": {
            "image/png": "[encoded data removed]",
            "text/plain": [
              "<Figure size 432x288 with 2 Axes>"
            ]
          },
          "metadata": {
            "tags": [],
            "needs_background": "light"
          }
        }
      ]
    },
    {
      "cell_type": "markdown",
      "metadata": {
        "id": "EuLiQKKlzicV"
      },
      "source": [
        "# UNDERSAMPLING"
      ]
    },
    {
      "cell_type": "code",
      "metadata": {
        "id": "kZnwrR8AzicV",
        "colab": {
          "base_uri": "https://localhost:8080/"
        },
        "outputId": "24f5284e-8bed-4bda-a187-7d45a4a1e68b"
      },
      "source": [
        "minority_class_len = len(df[df['playeractivity'] == 0])\n",
        "print(minority_class_len)"
      ],
      "execution_count": 60,
      "outputs": [
        {
          "output_type": "stream",
          "text": [
            "2919\n"
          ],
          "name": "stdout"
        }
      ]
    },
    {
      "cell_type": "code",
      "metadata": {
        "id": "-pXQ8-AazicV",
        "colab": {
          "base_uri": "https://localhost:8080/"
        },
        "outputId": "b70333d6-9c3b-496f-c063-85a3af75d05c"
      },
      "source": [
        "majority_class_indices = df[df['playeractivity'] == 1].index\n",
        "print(majority_class_indices)"
      ],
      "execution_count": 61,
      "outputs": [
        {
          "output_type": "stream",
          "text": [
            "Int64Index([   30,    60,    61,    65,    68,    69,    70,    71,    73,\n",
            "               76,\n",
            "            ...\n",
            "            14987, 14988, 14989, 14990, 14992, 14993, 14994, 14995, 14996,\n",
            "            14997],\n",
            "           dtype='int64', length=12079)\n"
          ],
          "name": "stdout"
        }
      ]
    },
    {
      "cell_type": "code",
      "metadata": {
        "id": "etj8K_FPzicV",
        "colab": {
          "base_uri": "https://localhost:8080/"
        },
        "outputId": "2dd15868-ec23-4b59-98d5-4cf1971e4cbb"
      },
      "source": [
        "random_majority_indices = np.random.choice(majority_class_indices,\n",
        "                                           minority_class_len, \n",
        "                                           replace=False)\n",
        "print(len(random_majority_indices))"
      ],
      "execution_count": 62,
      "outputs": [
        {
          "output_type": "stream",
          "text": [
            "2919\n"
          ],
          "name": "stdout"
        }
      ]
    },
    {
      "cell_type": "code",
      "metadata": {
        "id": "SFIQcr7GzicW",
        "colab": {
          "base_uri": "https://localhost:8080/"
        },
        "outputId": "a2cc2e5c-97bd-4147-fb9f-f14c9bf21908"
      },
      "source": [
        "minority_class_indices = df[df['playeractivity'] == 0].index\n",
        "print(minority_class_indices)"
      ],
      "execution_count": 63,
      "outputs": [
        {
          "output_type": "stream",
          "text": [
            "Int64Index([    0,     1,     2,     3,     4,     5,     6,     7,     8,\n",
            "                9,\n",
            "            ...\n",
            "            14926, 14930, 14933, 14935, 14939, 14945, 14949, 14971, 14984,\n",
            "            14991],\n",
            "           dtype='int64', length=2919)\n"
          ],
          "name": "stdout"
        }
      ]
    },
    {
      "cell_type": "code",
      "metadata": {
        "id": "IrCjkmoGzicW"
      },
      "source": [
        "under_sample_indices = np.concatenate([minority_class_indices,random_majority_indices])"
      ],
      "execution_count": 64,
      "outputs": []
    },
    {
      "cell_type": "code",
      "metadata": {
        "id": "_AgdfhSBzicW"
      },
      "source": [
        "under_sample = df.loc[under_sample_indices]"
      ],
      "execution_count": 65,
      "outputs": []
    },
    {
      "cell_type": "code",
      "metadata": {
        "colab": {
          "base_uri": "https://localhost:8080/",
          "height": 224
        },
        "id": "bGin-5NbHiER",
        "outputId": "5090ae43-b1c0-4982-989b-ed7d6baf1b2a"
      },
      "source": [
        "under_sample.head()"
      ],
      "execution_count": 66,
      "outputs": [
        {
          "output_type": "execute_result",
          "data": {
            "text/html": [
              "<div>\n",
              "<style scoped>\n",
              "    .dataframe tbody tr th:only-of-type {\n",
              "        vertical-align: middle;\n",
              "    }\n",
              "\n",
              "    .dataframe tbody tr th {\n",
              "        vertical-align: top;\n",
              "    }\n",
              "\n",
              "    .dataframe thead th {\n",
              "        text-align: right;\n",
              "    }\n",
              "</style>\n",
              "<table border=\"1\" class=\"dataframe\">\n",
              "  <thead>\n",
              "    <tr style=\"text-align: right;\">\n",
              "      <th></th>\n",
              "      <th>player_id</th>\n",
              "      <th>sessions</th>\n",
              "      <th>session_time</th>\n",
              "      <th>words</th>\n",
              "      <th>rounds_completed</th>\n",
              "      <th>stars_gained</th>\n",
              "      <th>energy_spent</th>\n",
              "      <th>energy_left</th>\n",
              "      <th>win_ratio</th>\n",
              "      <th>total_games</th>\n",
              "      <th>friends</th>\n",
              "      <th>grind_spent</th>\n",
              "      <th>grind_earned</th>\n",
              "      <th>premium_left</th>\n",
              "      <th>premium_earned</th>\n",
              "      <th>premium_spent</th>\n",
              "      <th>lottery_wins</th>\n",
              "      <th>diffuculty</th>\n",
              "      <th>grind_left</th>\n",
              "      <th>level</th>\n",
              "      <th>dollars</th>\n",
              "      <th>playeractivity</th>\n",
              "    </tr>\n",
              "  </thead>\n",
              "  <tbody>\n",
              "    <tr>\n",
              "      <th>0</th>\n",
              "      <td>8250900</td>\n",
              "      <td>4</td>\n",
              "      <td>3</td>\n",
              "      <td>1</td>\n",
              "      <td>0</td>\n",
              "      <td>115</td>\n",
              "      <td>811</td>\n",
              "      <td>1500</td>\n",
              "      <td>0</td>\n",
              "      <td>0</td>\n",
              "      <td>0</td>\n",
              "      <td>0</td>\n",
              "      <td>0</td>\n",
              "      <td>0</td>\n",
              "      <td>1</td>\n",
              "      <td>1</td>\n",
              "      <td>0</td>\n",
              "      <td>0</td>\n",
              "      <td>0</td>\n",
              "      <td>2</td>\n",
              "      <td>9</td>\n",
              "      <td>0</td>\n",
              "    </tr>\n",
              "    <tr>\n",
              "      <th>1</th>\n",
              "      <td>7271390</td>\n",
              "      <td>0</td>\n",
              "      <td>3</td>\n",
              "      <td>1</td>\n",
              "      <td>0</td>\n",
              "      <td>0</td>\n",
              "      <td>1271</td>\n",
              "      <td>400</td>\n",
              "      <td>0</td>\n",
              "      <td>0</td>\n",
              "      <td>0</td>\n",
              "      <td>0</td>\n",
              "      <td>0</td>\n",
              "      <td>0</td>\n",
              "      <td>1</td>\n",
              "      <td>1</td>\n",
              "      <td>1</td>\n",
              "      <td>0</td>\n",
              "      <td>0</td>\n",
              "      <td>1</td>\n",
              "      <td>4</td>\n",
              "      <td>0</td>\n",
              "    </tr>\n",
              "    <tr>\n",
              "      <th>2</th>\n",
              "      <td>3271250</td>\n",
              "      <td>3</td>\n",
              "      <td>10</td>\n",
              "      <td>1</td>\n",
              "      <td>0</td>\n",
              "      <td>1500</td>\n",
              "      <td>5027</td>\n",
              "      <td>0</td>\n",
              "      <td>0</td>\n",
              "      <td>0</td>\n",
              "      <td>0</td>\n",
              "      <td>5</td>\n",
              "      <td>0</td>\n",
              "      <td>0</td>\n",
              "      <td>2</td>\n",
              "      <td>1</td>\n",
              "      <td>1</td>\n",
              "      <td>0</td>\n",
              "      <td>0</td>\n",
              "      <td>14</td>\n",
              "      <td>4</td>\n",
              "      <td>0</td>\n",
              "    </tr>\n",
              "    <tr>\n",
              "      <th>3</th>\n",
              "      <td>728758</td>\n",
              "      <td>1</td>\n",
              "      <td>11</td>\n",
              "      <td>0</td>\n",
              "      <td>6000</td>\n",
              "      <td>10000</td>\n",
              "      <td>13061</td>\n",
              "      <td>7000</td>\n",
              "      <td>0</td>\n",
              "      <td>0</td>\n",
              "      <td>0</td>\n",
              "      <td>0</td>\n",
              "      <td>0</td>\n",
              "      <td>0</td>\n",
              "      <td>0</td>\n",
              "      <td>0</td>\n",
              "      <td>0</td>\n",
              "      <td>1</td>\n",
              "      <td>0</td>\n",
              "      <td>12</td>\n",
              "      <td>7</td>\n",
              "      <td>0</td>\n",
              "    </tr>\n",
              "    <tr>\n",
              "      <th>4</th>\n",
              "      <td>5732530</td>\n",
              "      <td>3</td>\n",
              "      <td>14</td>\n",
              "      <td>1</td>\n",
              "      <td>300</td>\n",
              "      <td>0</td>\n",
              "      <td>201545</td>\n",
              "      <td>400</td>\n",
              "      <td>0</td>\n",
              "      <td>0</td>\n",
              "      <td>0</td>\n",
              "      <td>5</td>\n",
              "      <td>0</td>\n",
              "      <td>0</td>\n",
              "      <td>2</td>\n",
              "      <td>1</td>\n",
              "      <td>0</td>\n",
              "      <td>0</td>\n",
              "      <td>0</td>\n",
              "      <td>23</td>\n",
              "      <td>22</td>\n",
              "      <td>0</td>\n",
              "    </tr>\n",
              "  </tbody>\n",
              "</table>\n",
              "</div>"
            ],
            "text/plain": [
              "   player_id  sessions  session_time  ...  level  dollars  playeractivity\n",
              "0    8250900         4             3  ...      2        9               0\n",
              "1    7271390         0             3  ...      1        4               0\n",
              "2    3271250         3            10  ...     14        4               0\n",
              "3     728758         1            11  ...     12        7               0\n",
              "4    5732530         3            14  ...     23       22               0\n",
              "\n",
              "[5 rows x 22 columns]"
            ]
          },
          "metadata": {
            "tags": []
          },
          "execution_count": 66
        }
      ]
    },
    {
      "cell_type": "code",
      "metadata": {
        "id": "h0SnrGIVzicW",
        "colab": {
          "base_uri": "https://localhost:8080/",
          "height": 296
        },
        "outputId": "f3ceca4e-5ca6-444f-c651-e0e43918bffb"
      },
      "source": [
        "sns.countplot(x=under_sample['playeractivity'], data=under_sample)"
      ],
      "execution_count": 67,
      "outputs": [
        {
          "output_type": "execute_result",
          "data": {
            "text/plain": [
              "<matplotlib.axes._subplots.AxesSubplot at 0x7f2ac26775d0>"
            ]
          },
          "metadata": {
            "tags": []
          },
          "execution_count": 67
        },
        {
          "output_type": "display_data",
          "data": {
            "image/png": "[encoded data removed]",
            "text/plain": [
              "<Figure size 432x288 with 1 Axes>"
            ]
          },
          "metadata": {
            "tags": [],
            "needs_background": "light"
          }
        }
      ]
    },
    {
      "cell_type": "code",
      "metadata": {
        "id": "7D_zl0iIzicX"
      },
      "source": [
        "X = under_sample.drop(['playeractivity' , 'player_id'] , axis =1)\n",
        "Y = under_sample['playeractivity']\n",
        "X_train, X_test, Y_train, Y_test = train_test_split(X, Y, test_size=0.30, random_state=42)\n",
        "model_lr = LogisticRegression(max_iter = 400).fit(X_train, Y_train)\n",
        "predicted_classes_lr = model_lr.predict(X_test)"
      ],
      "execution_count": 68,
      "outputs": []
    },
    {
      "cell_type": "code",
      "metadata": {
        "id": "rrTbcJY0zicX",
        "colab": {
          "base_uri": "https://localhost:8080/",
          "height": 330
        },
        "outputId": "fb886e30-c63f-4da0-8ce3-46c3c327bb43"
      },
      "source": [
        "print(\"Confusion matrix for Logistic Regression model:\")\n",
        "conf_mat_lr = confusion_matrix(Y_test.tolist(), predicted_classes_lr)\n",
        "print(conf_mat_lr)\n",
        "\n",
        "\n",
        "sns.heatmap(conf_mat_lr, annot = True , fmt = 'g')\n",
        "plt.xlabel(\"Predicted classes\")\n",
        "plt.ylabel(\"Actual classes\")\n",
        "plt.show()"
      ],
      "execution_count": 69,
      "outputs": [
        {
          "output_type": "stream",
          "text": [
            "Confusion matrix for Logistic Regression model:\n",
            "[[  8 912]\n",
            " [  0 832]]\n"
          ],
          "name": "stdout"
        },
        {
          "output_type": "display_data",
          "data": {
            "image/png": "[encoded data removed]",
            "text/plain": [
              "<Figure size 432x288 with 2 Axes>"
            ]
          },
          "metadata": {
            "tags": [],
            "needs_background": "light"
          }
        }
      ]
    },
    {
      "cell_type": "code",
      "metadata": {
        "id": "ZHnQhumpzicX"
      },
      "source": [
        ""
      ],
      "execution_count": 69,
      "outputs": []
    }
  ]
}